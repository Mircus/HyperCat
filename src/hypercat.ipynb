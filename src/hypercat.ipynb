"""Category Theory and Hypercategory Library

A comprehensive Python library for working with categories, functors, 
natural transformations, and hypercategories.
"""

from abc import ABC, abstractmethod
from typing import Any, Dict, List, Set, Tuple, Optional, Callable, Union
from dataclasses import dataclass
import itertools


class Object:
    """Represents an object in a category."""

    def __init__(self, name: str, data: Any = None):
        self.name = name
        self.data = data

    def __str__(self):
        return self.name

    def __repr__(self):
        return f"Object({self.name})"

    def __eq__(self, other):
        return isinstance(other, Object) and self.name == other.name

    def __hash__(self):
        return hash(self.name)


class Morphism:
    """Represents a morphism (arrow) between objects in a category."""

    def __init__(self, name: str, source: Object, target: Object, data: Any = None):
        self.name = name
        self.source = source
        self.target = target
        self.data = data

    def __str__(self):
        return f"{self.name}: {self.source} -> {self.target}"

    def __repr__(self):
        return f"Morphism({self.name}, {self.source.name}, {self.target.name})"

    def __eq__(self, other):
        return (isinstance(other, Morphism) and 
                self.name == other.name and 
                self.source == other.source and 
                self.target == other.target)

    def __hash__(self):
        return hash((self.name, self.source, self.target))



class Category:
    """Represents a category with objects and morphisms."""

    def __init__(self, name: str):
        self.name = name
        self.objects: Set[Object] = set()
        self.morphisms: Set[Morphism] = set()
        self.composition: Dict[Tuple[Morphism, Morphism], Morphism] = {}
        self.identities: Dict[Object, Morphism] = {}

    def add_object(self, obj: Object) -> 'Category':
        """Add an object to the category."""
        self.objects.add(obj)
        # Automatically create identity morphism
        id_morph = Morphism(f"id_{obj.name}", obj, obj)
        self.morphisms.add(id_morph)
        self.identities[obj] = id_morph
        return self

    def add_morphism(self, morph: Morphism) -> 'Category':
        """Add a morphism to the category."""
        self.morphisms.add(morph)
        self.objects.add(morph.source)
        self.objects.add(morph.target)
        return self

    def set_composition(self, f: Morphism, g: Morphism, h: Morphism) -> 'Category':
        """Set the composition g ∘ f = h (g after f)."""
        if f.target != g.source:
            raise ValueError(f"Cannot compose {f} and {g}: target/source mismatch")
        if h.source != f.source or h.target != g.target:
            raise ValueError(f"Composition result {h} has wrong source/target")
        self.composition[(g, f)] = h
        return self

    def compose(self, f: Morphism, g: Morphism) -> Optional[Morphism]:
        """Compose morphisms g ∘ f (g after f)."""
        return self.composition.get((g, f))

    def is_valid(self) -> bool:
        """Check if the category satisfies category axioms."""
        for obj in self.objects:
            id_morph = self.identities.get(obj)
            if not id_morph:
                return False
            for f in self.morphisms:
                if f.source == obj:
                    composed = self.compose(f, id_morph)
                    if composed != f:
                        return False
                if f.target == obj:
                    composed = self.compose(id_morph, f)
                    if composed != f:
                        return False
        for f in self.morphisms:
            for g in self.morphisms:
                if f.target == g.source:
                    for h in self.morphisms:
                        if g.target == h.source:
                            hg = self.compose(g, h)
                            gf = self.compose(f, g)
                            if hg and gf:
                                left = self.compose(f, hg)
                                right = self.compose(gf, h)
                                if left and right and left != right:
                                    return False
        return True

    def __str__(self):
        return f"Category({self.name})"

