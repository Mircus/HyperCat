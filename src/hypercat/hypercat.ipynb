{
 "cells": [
  {
   "cell_type": "markdown",
   "id": "4a8f4356",
   "metadata": {},
   "source": [
    "# HyperCat Demo\n",
    "Demonstration of category theory structures using the HyperCat library."
   ]
  },
  {
   "cell_type": "code",
   "execution_count": null,
   "id": "cdbe4f72",
   "metadata": {},
   "outputs": [],
   "source": [
    "from hypercat import *"
   ]
  },
  {
   "cell_type": "markdown",
   "id": "fb1225c7",
   "metadata": {},
   "source": [
    "## 1. Creating a simple category"
   ]
  },
  {
   "cell_type": "code",
   "execution_count": null,
   "id": "bc5a39f3",
   "metadata": {},
   "outputs": [],
   "source": [
    "\n",
    "cat = Category(\"Simple\")\n",
    "A = Object(\"A\")\n",
    "B = Object(\"B\")\n",
    "C = Object(\"C\")\n",
    "\n",
    "cat.add_object(A).add_object(B).add_object(C)\n",
    "\n",
    "f = Morphism(\"f\", A, B)\n",
    "g = Morphism(\"g\", B, C)\n",
    "h = Morphism(\"h\", A, C)\n",
    "\n",
    "cat.add_morphism(f).add_morphism(g).add_morphism(h)\n",
    "cat.set_composition(f, g, h)  # g ∘ f = h\n",
    "\n",
    "print(f\"Category {cat.name} has {len(cat.objects)} objects and {len(cat.morphisms)} morphisms\")\n",
    "print(f\"Valid category: {cat.is_valid()}\")\n"
   ]
  },
  {
   "cell_type": "markdown",
   "id": "1adf4723",
   "metadata": {},
   "source": [
    "## 2. Standard categories"
   ]
  },
  {
   "cell_type": "code",
   "execution_count": null,
   "id": "4de5883d",
   "metadata": {},
   "outputs": [],
   "source": [
    "\n",
    "terminal = StandardCategories.terminal_category()\n",
    "arrow = StandardCategories.arrow_category()\n",
    "simplex = StandardCategories.simplex_category(2)\n",
    "\n",
    "print(f\"Terminal category 1: {len(terminal.objects)} objects, {len(terminal.morphisms)} morphisms\")\n",
    "print(f\"Arrow category 2: {len(arrow.objects)} objects, {len(arrow.morphisms)} morphisms\")\n",
    "print(f\"Simplex Δ²: {len(simplex.objects)} objects, {len(simplex.morphisms)} morphisms\")\n"
   ]
  },
  {
   "cell_type": "markdown",
   "id": "5c4a3af1",
   "metadata": {},
   "source": [
    "## 3. Functor definition"
   ]
  },
  {
   "cell_type": "code",
   "execution_count": null,
   "id": "91c0bd2a",
   "metadata": {},
   "outputs": [],
   "source": [
    "\n",
    "target_cat = Category(\"Target\")\n",
    "X = Object(\"X\")\n",
    "Y = Object(\"Y\")\n",
    "target_cat.add_object(X).add_object(Y)\n",
    "\n",
    "alpha = Morphism(\"α\", X, Y)\n",
    "target_cat.add_morphism(alpha)\n",
    "\n",
    "F = Functor(\"F\", arrow, target_cat)\n",
    "objs = list(arrow.objects)\n",
    "F.map_object(objs[0], X)\n",
    "F.map_object(objs[1], Y)\n",
    "\n",
    "arrow_morph = next(m for m in arrow.morphisms if m.source != m.target)\n",
    "F.map_morphism(arrow_morph, alpha)\n",
    "\n",
    "print(f\"Preserves composition: {F.preserves_composition()}\")\n",
    "print(f\"Preserves identities: {F.preserves_identities()}\")\n"
   ]
  }
 ],
 "metadata": {},
 "nbformat": 4,
 "nbformat_minor": 5
}


