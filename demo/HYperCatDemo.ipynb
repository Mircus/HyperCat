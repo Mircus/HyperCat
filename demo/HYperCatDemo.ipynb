{
 "cells": [
  {
   "cell_type": "markdown",
   "metadata": {},
   "source": [
    "# 🧠 HyperCat Demo Notebook\n",
    "This notebook demonstrates how to use the `HyperCat` Python package for category theory. We will create categories, define morphisms, functors, and test various properties like validity and naturality."
   ]
  },
  {
   "cell_type": "code",
   "execution_count": null,
   "metadata": {},
   "outputs": [],
   "source": [
    "from hypercat.core import Object, Morphism\n",
    "from hypercat.category import Category\n",
    "from hypercat.functor import Functor\n",
    "from hypercat.natural import NaturalTransformation\n",
    "from hypercat.twocategory import TwoCell, TwoCategory\n",
    "from hypercat.standard import StandardCategories"
   ]
  },
  {
   "cell_type": "markdown",
   "metadata": {},
   "source": [
    "## Step 1: Create a simple category"
   ]
  },
  {
   "cell_type": "code",
   "execution_count": null,
   "metadata": {},
   "outputs": [],
   "source": [
    "C = Category("ExampleCat")\n",
    "A = Object("A")\n",
    "B = Object("B")\n",
    "C.add_object(A).add_object(B)\n",
    "f = Morphism("f", A, B)\n",
    "C.add_morphism(f)\n",
    "C.set_composition(C.identities[B], f, f)\n",
    "C.set_composition(f, C.identities[A], f)\n",
    "print(f"Is category valid? {C.is_valid()}")"
   ]
  },
  {
   "cell_type": "markdown",
   "metadata": {},
   "source": [
    "## Step 2: Create a functor between two categories"
   ]
  },
  {
   "cell_type": "code",
   "execution_count": null,
   "metadata": {},
   "outputs": [],
   "source": [
    "D = Category("TargetCat")\n",
    "X = Object("X")\n",
    "Y = Object("Y")\n",
    "D.add_object(X).add_object(Y)\n",
    "alpha = Morphism("alpha", X, Y)\n",
    "D.add_morphism(alpha)\n",
    "D.set_composition(alpha, D.identities[X], alpha)\n",
    "D.set_composition(D.identities[Y], alpha, alpha)\n",
    "\n",
    "F = Functor("F", C, D)\n",
    "F.map_object(A, X).map_object(B, Y)\n",
    "F.map_morphism(f, alpha)\n",
    "print(f"Functor preserves composition: {F.preserves_composition()}")"
   ]
  },
  {
   "cell_type": "markdown",
   "metadata": {},
   "source": [
    "## Step 3: Natural Transformation"
   ]
  },
  {
   "cell_type": "code",
   "execution_count": null,
   "metadata": {},
   "outputs": [],
   "source": [
    "# Duplicate the functor for demonstration\n",
    "G = Functor("G", C, D)\n",
    "G.map_object(A, X).map_object(B, Y).map_morphism(f, alpha)\n",
    "\n",
    "nat = NaturalTransformation("alpha", F, G)\n",
    "nat.set_component(A, D.identities[X])\n",
    "nat.set_component(B, D.identities[Y])\n",
    "print(f"Is the transformation natural? {nat.is_natural()}")"
   ]
  },
  {
   "cell_type": "markdown",
   "metadata": {},
   "source": [
    "## Step 4: Standard categories"
   ]
  },
  {
   "cell_type": "code",
   "execution_count": null,
   "metadata": {},
   "outputs": [],
   "source": [
    "arrow = StandardCategories.arrow_category()\n",
    "print(f"Arrow category has {len(arrow.objects)} objects and {len(arrow.morphisms)} morphisms")"
   ]
  }
 ],
 "metadata": {
  "kernelspec": {
   "display_name": "Python 3",
   "language": "python",
   "name": "python3"
  },
  "language_info": {
   "name": "python",
   "version": "3.10"
  }
 },
 "nbformat": 4,
 "nbformat_minor": 5
}
