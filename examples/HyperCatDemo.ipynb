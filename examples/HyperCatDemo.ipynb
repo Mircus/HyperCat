{
 "cells": [
  {
   "cell_type": "markdown",
   "id": "084cafa0",
   "metadata": {},
   "source": [
    "# 🧠 HyperCat Demo Notebook\n",
    "This notebook demonstrates how to use the `HyperCat` Python package for category theory."
   ]
  },
  {
   "cell_type": "code",
   "execution_count": 1,
   "id": "3680aa85",
   "metadata": {},
   "outputs": [],
   "source": [
    "from hypercat import Category, Object, Morphism, Functor, NaturalTransformation\n",
    "from hypercat.higher import TwoCell, TwoCategory\n",
    "from hypercat.categories import StandardCategories"
   ]
  },
  {
   "cell_type": "markdown",
   "id": "a2808539",
   "metadata": {},
   "source": [
    "## Step 1: Create a simple category"
   ]
  },
  {
   "cell_type": "code",
   "execution_count": null,
   "id": "5a48d13e",
   "metadata": {},
   "outputs": [],
   "source": "C = Category(\"ExampleCat\")\nA = Object(\"A\")\nB = Object(\"B\")\nC.add_object(A).add_object(B)\nf = Morphism(\"f\", A, B)\nC.add_morphism(f)\n\n# Set up proper compositions: identity morphisms compose correctly\nC.set_composition(C.identities[A], f, f)  # f ∘ id_A = f\nC.set_composition(f, C.identities[B], f)  # id_B ∘ f = f\n\nprint(f\"Category {C.name}:\")\nprint(f\"  Objects: {len(C.objects)}\")\nprint(f\"  Morphisms: {len(C.morphisms)}\")\nprint(f\"  Morphism names: {[m.name for m in C.morphisms]}\")"
  },
  {
   "cell_type": "markdown",
   "id": "7c8677b2",
   "metadata": {},
   "source": [
    "## Step 2: Create a functor between two categories"
   ]
  },
  {
   "cell_type": "code",
   "execution_count": null,
   "id": "54b7285d",
   "metadata": {},
   "outputs": [],
   "source": "D = Category(\"TargetCat\")\nX = Object(\"X\")\nY = Object(\"Y\")\nD.add_object(X).add_object(Y)\nalpha = Morphism(\"alpha\", X, Y)\nD.add_morphism(alpha)\n\n# Set up proper compositions for category D\nD.set_composition(D.identities[X], alpha, alpha)  # alpha ∘ id_X = alpha\nD.set_composition(alpha, D.identities[Y], alpha)  # id_Y ∘ alpha = alpha\n\nF = Functor(\"F\", C, D)\nF.map_object(A, X).map_object(B, Y)\nF.map_morphism(f, alpha)\n\nprint(f\"Functor {F.name}: {F.source.name} → {F.target.name}\")\nprint(f\"Functor preserves composition: {F.is_functor()}\")"
  },
  {
   "cell_type": "markdown",
   "id": "39f88b82",
   "metadata": {},
   "source": [
    "## Step 3: Natural Transformation"
   ]
  },
  {
   "cell_type": "code",
   "execution_count": null,
   "id": "0e75c475",
   "metadata": {},
   "outputs": [],
   "source": "# Create duplicate functor for natural transformation demo\nG = Functor(\"G\", C, D)\nG.map_object(A, X).map_object(B, Y).map_morphism(f, alpha)\n\n# Create identity natural transformation\nnat = NaturalTransformation(\"nat\", F, G)\nnat.set_component(A, D.identities[X])\nnat.set_component(B, D.identities[Y])\n\nprint(f\"Natural transformation {nat.name}: {F.name} ⇒ {G.name}\")\nprint(f\"Is natural? {nat.is_natural()}\")"
  },
  {
   "cell_type": "markdown",
   "id": "051188ee",
   "metadata": {},
   "source": [
    "## Step 4: Standard categories"
   ]
  },
  {
   "cell_type": "code",
   "execution_count": null,
   "id": "7b3e547b",
   "metadata": {},
   "outputs": [],
   "source": "arrow = StandardCategories.arrow_category()\nprint(f\"Arrow category '→': {len(arrow.objects)} objects, {len(arrow.morphisms)} morphisms\")\n\nterminal = StandardCategories.terminal_category()\nprint(f\"Terminal category '1': {len(terminal.objects)} objects, {len(terminal.morphisms)} morphisms\")\n\ndiscrete = StandardCategories.discrete_category([\"X\", \"Y\", \"Z\"])\nprint(f\"Discrete category: {len(discrete.objects)} objects, {len(discrete.morphisms)} morphisms\")"
  }
 ],
 "metadata": {
  "kernelspec": {
   "display_name": ".venv",
   "language": "python",
   "name": "python3"
  },
  "language_info": {
   "codemirror_mode": {
    "name": "ipython",
    "version": 3
   },
   "file_extension": ".py",
   "mimetype": "text/x-python",
   "name": "python",
   "nbconvert_exporter": "python",
   "pygments_lexer": "ipython3",
   "version": "3.10.4"
  }
 },
 "nbformat": 4,
 "nbformat_minor": 5
}