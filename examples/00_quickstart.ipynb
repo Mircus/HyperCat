{
 "cells": [
  {
   "cell_type": "markdown",
   "metadata": {},
   "source": [
    "# HyperCat Quickstart Guide\n",
    "\n",
    "Welcome to HyperCat! This notebook provides a quick introduction to the core concepts and functionality of the HyperCat library for category theory.\n",
    "\n",
    "## Installation\n",
    "\n",
    "First, make sure HyperCat is installed:\n",
    "\n",
    "```bash\n",
    "pip install -e .\n",
    "```"
   ]
  },
  {
   "cell_type": "markdown",
   "metadata": {},
   "source": [
    "## 1. Basic Imports\n",
    "\n",
    "Let's start by importing the essential classes from HyperCat:"
   ]
  },
  {
   "cell_type": "code",
   "execution_count": 9,
   "metadata": {},
   "outputs": [
    {
     "name": "stdout",
     "output_type": "stream",
     "text": [
      "HyperCat version: 0.1.0\n"
     ]
    }
   ],
   "source": [
    "import hypercat\n",
    "from hypercat import Category, Object, Morphism, Functor, NaturalTransformation\n",
    "\n",
    "print(f\"HyperCat version: {hypercat.__version__}\")"
   ]
  },
  {
   "cell_type": "markdown",
   "metadata": {},
   "source": [
    "## 2. Creating Your First Category\n",
    "\n",
    "Let's create a simple category with two objects and a morphism between them:"
   ]
  },
  {
   "cell_type": "code",
   "execution_count": null,
   "metadata": {},
   "outputs": [],
   "source": "cat = Category(\"MyCategory\")\n\nA = Object(\"A\")\nB = Object(\"B\")\ncat.add_object(A)\ncat.add_object(B)\n\nf = Morphism(\"f\", A, B)\ncat.add_morphism(f)\n\nprint(f\"Category: {cat.name}\")\nprint(f\"Objects: {[str(obj) for obj in cat.objects]}\")\nprint(f\"Morphisms: {[str(morph) for morph in cat.morphisms]}\")"
  },
  {
   "cell_type": "markdown",
   "metadata": {},
   "source": [
    "## 3. Composition of Morphisms\n",
    "\n",
    "Categories support composition of morphisms. Let's add another object and compose morphisms:"
   ]
  },
  {
   "cell_type": "code",
   "execution_count": null,
   "metadata": {},
   "outputs": [],
   "source": "C = Object(\"C\")\ncat.add_object(C)\n\ng = Morphism(\"g\", B, C)\ncat.add_morphism(g)\n\n# Define the composition g∘f\nh = Morphism(\"g∘f\", A, C)\ncat.add_morphism(h)\ncat.set_composition(f, g, h)\n\ncomposed = cat.compose(f, g)\nprint(f\"Composed morphism: {composed}\")\nprint(f\"Source: {composed.source}, Target: {composed.target}\")"
  },
  {
   "cell_type": "markdown",
   "metadata": {},
   "source": [
    "## 4. Functors Between Categories\n",
    "\n",
    "Functors map between categories while preserving their structure:"
   ]
  },
  {
   "cell_type": "code",
   "execution_count": null,
   "metadata": {},
   "outputs": [],
   "source": "cat2 = Category(\"TargetCategory\")\n\nA_prime = Object(\"A'\")\nB_prime = Object(\"B'\")\nC_prime = Object(\"C'\")\n\ncat2.add_object(A_prime)\ncat2.add_object(B_prime)\ncat2.add_object(C_prime)\n\nf_prime = Morphism(\"f'\", A_prime, B_prime)\ng_prime = Morphism(\"g'\", B_prime, C_prime)\ncat2.add_morphism(f_prime)\ncat2.add_morphism(g_prime)\n\nF = Functor(\"F\", cat, cat2)\nF.map_object(A, A_prime)\nF.map_object(B, B_prime)\nF.map_object(C, C_prime)\nF.map_morphism(f, f_prime)\nF.map_morphism(g, g_prime)\n\nprint(f\"Functor {F.name}: {F.source.name} → {F.target.name}\")\nprint(f\"Preserves composition: {F.is_functor()}\")"
  },
  {
   "cell_type": "markdown",
   "metadata": {},
   "source": [
    "## 5. Standard Categories\n",
    "\n",
    "HyperCat provides several standard categories out of the box:"
   ]
  },
  {
   "cell_type": "code",
   "execution_count": null,
   "metadata": {},
   "outputs": [],
   "source": "from hypercat import StandardCategories\n\nterminal = StandardCategories.terminal_category()\nprint(f\"Terminal category has {len(terminal.objects)} object(s)\")\n\ninitial = StandardCategories.initial_category()\nprint(f\"Initial category has {len(initial.objects)} object(s)\")\n\ndiscrete = StandardCategories.discrete_category([\"X\", \"Y\", \"Z\"])\nprint(f\"Discrete category has {len(discrete.objects)} objects\")\nprint(f\"Discrete category has {len(discrete.morphisms)} morphisms\")"
  },
  {
   "cell_type": "markdown",
   "metadata": {},
   "source": [
    "## 6. Commutative Diagrams\n",
    "\n",
    "Check if diagrams commute in your category:"
   ]
  },
  {
   "cell_type": "code",
   "execution_count": null,
   "metadata": {},
   "outputs": [],
   "source": "square_cat = Category(\"Square\")\n\nTL = Object(\"TopLeft\")\nTR = Object(\"TopRight\") \nBL = Object(\"BottomLeft\")\nBR = Object(\"BottomRight\")\n\nfor obj in [TL, TR, BL, BR]:\n    square_cat.add_object(obj)\n\ntop = Morphism(\"top\", TL, TR)\nleft = Morphism(\"left\", TL, BL) \nright = Morphism(\"right\", TR, BR)\nbottom = Morphism(\"bottom\", BL, BR)\n\nfor morph in [top, left, right, bottom]:\n    square_cat.add_morphism(morph)\n\n# Make square commute by setting both paths to same morphism\ncommute_morph = Morphism(\"diagonal\", TL, BR)\nsquare_cat.add_morphism(commute_morph)\nsquare_cat.set_composition(top, right, commute_morph)\nsquare_cat.set_composition(left, bottom, commute_morph)\n\npath1 = square_cat.compose(top, right)\npath2 = square_cat.compose(left, bottom)\n\nprint(f\"Path 1 (top → right): {path1}\")\nprint(f\"Path 2 (left → bottom): {path2}\")  \nprint(f\"Square commutes: {path1 == path2}\")"
  },
  {
   "cell_type": "markdown",
   "metadata": {},
   "source": [
    "## 7. Higher Categories\n",
    "\n",
    "HyperCat also supports higher categorical structures:"
   ]
  },
  {
   "cell_type": "code",
   "execution_count": null,
   "metadata": {},
   "outputs": [],
   "source": "from hypercat import TwoCategory, TwoCell\n\ntwo_cat = TwoCategory(\"My2Category\")\n\nX = Object(\"X\")\nY = Object(\"Y\")\ntwo_cat.add_object(X)\ntwo_cat.add_object(Y)\n\nf = Morphism(\"f\", X, Y)\ng = Morphism(\"g\", X, Y)\ntwo_cat.add_morphism(f)\ntwo_cat.add_morphism(g)\n\nalpha = TwoCell(\"α\", f, g)\ntwo_cat.add_two_cell(alpha)\n\nprint(f\"2-Category: {two_cat.name}\")\nprint(f\"2-cell: {alpha}\")"
  },
  {
   "cell_type": "markdown",
   "metadata": {},
   "source": [
    "## 8. Functors in Action\n",
    "\n",
    "Let's see how our functor works:"
   ]
  },
  {
   "cell_type": "code",
   "execution_count": null,
   "metadata": {},
   "outputs": [],
   "source": "print(f\"Functor {F.name}: {F.source.name} → {F.target.name}\")\nprint(f\"Object mapping: A→{F.object_map[A].name}, B→{F.object_map[B].name}, C→{F.object_map[C].name}\")\nprint(f\"Preserves composition: {F.is_functor()}\")\n\n# Natural transformations between functors\neta = NaturalTransformation(\"η\", F, F)\n\n# Add identity components for identity natural transformation\ncomponent_count = 0\nfor obj in [A, B, C]:\n    target_obj = F.object_map[obj]\n    identity_morph = next((m for m in cat2.morphisms \n                          if m.source == target_obj and m.target == target_obj), None)\n    if identity_morph:\n        eta.set_component(obj, identity_morph)\n        component_count += 1\n\nprint(f\"Natural transformation η: {F.name} ⇒ {F.name}\")\nprint(f\"Components: {component_count}\")"
  },
  {
   "cell_type": "markdown",
   "metadata": {},
   "source": [
    "## Next Steps\n",
    "\n",
    "Now that you've learned the basics, you can:\n",
    "\n",
    "1. Explore more advanced categories:\n",
    "   - `MonoidalCategory` for tensor products\n",
    "   - `BraidedMonoidalCategory` for braided structures\n",
    "   - `EnrichedCategory` for enriched category theory\n",
    "   - `Topos` for topos theory\n",
    "\n",
    "2. Work with algebraic structures:\n",
    "   - `Operad` for operadic structures\n",
    "   - `Algebra` for algebras over operads\n",
    "\n",
    "3. Use diagram checking tools:\n",
    "   - `CommutativityChecker` for verifying diagram commutativity\n",
    "\n",
    "4. Explore higher structures:\n",
    "   - `InfinityCategory` for ∞-categories\n",
    "   - `SimplicialSet` for simplicial sets\n",
    "   - `HomotopyType` for homotopy types\n",
    "\n",
    "Check out the other example notebooks for more advanced usage!"
   ]
  }
 ],
 "metadata": {
  "kernelspec": {
   "display_name": ".venv",
   "language": "python",
   "name": "python3"
  },
  "language_info": {
   "codemirror_mode": {
    "name": "ipython",
    "version": 3
   },
   "file_extension": ".py",
   "mimetype": "text/x-python",
   "name": "python",
   "nbconvert_exporter": "python",
   "pygments_lexer": "ipython3",
   "version": "3.10.4"
  }
 },
 "nbformat": 4,
 "nbformat_minor": 4
}